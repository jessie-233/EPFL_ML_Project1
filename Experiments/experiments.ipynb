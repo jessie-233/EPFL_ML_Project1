{
 "cells": [
  {
   "cell_type": "code",
   "execution_count": 2,
   "metadata": {},
   "outputs": [],
   "source": [
    "import numpy as np\n",
    "import warnings\n",
    "import matplotlib.pyplot as plt\n",
    "import math\n",
    "from utilities_ex import *\n",
    "from implementations_ex import *\n",
    "\n",
    "warnings.filterwarnings(\"ignore\")"
   ]
  },
  {
   "cell_type": "markdown",
   "metadata": {},
   "source": [
    "Experiment 1:\n",
    "- Model: Linear Regression \n",
    "- polynomials: NO\n",
    "\n",
    "Result: \n",
    "- GD: 0.7454 (2.4s)\n",
    "- NE: 0.7466 (0.1s)"
   ]
  },
  {
   "cell_type": "code",
   "execution_count": 3,
   "metadata": {},
   "outputs": [],
   "source": [
    "# prepare data\n",
    "y, x, _ = load_csv_data(\"../data/train.csv\", sub_sample=False)\n",
    "x_tr, x_va, y_tr, y_va = split_data(x, y, ratio=0.8, seed=1) # split data into training set and validation set\n",
    "# one-hot encoding\n",
    "dummies_tr = get_dummy(x_tr)\n",
    "dummies_va = get_dummy(x_va)\n",
    "# data preprocessing\n",
    "x_tr, x_mean, x_std = preprocessing(x_tr, dummies_tr, test=False, poly=False) # no polynomials\n",
    "x_va, _, _ = preprocessing(x_va, dummies_va, test=True, mean=x_mean, std=x_std, poly=False) "
   ]
  },
  {
   "cell_type": "code",
   "execution_count": 4,
   "metadata": {},
   "outputs": [
    {
     "name": "stdout",
     "output_type": "stream",
     "text": [
      "The 100 of the 100 GD iters has the lowest val loss: loss(train)=0.08452232973950577, loss(val)=0.08489304654717009\n"
     ]
    },
    {
     "data": {
      "image/png": "[encoded data removed]",
      "text/plain": [
       "<Figure size 432x288 with 1 Axes>"
      ]
     },
     "metadata": {
      "needs_background": "light"
     },
     "output_type": "display_data"
    },
    {
     "name": "stdout",
     "output_type": "stream",
     "text": [
      "The Accuracy is: 0.7454\n"
     ]
    }
   ],
   "source": [
    "# train with linear regression\n",
    "initial_w = np.zeros(x_tr.shape[1])\n",
    "best_weights, train_losses, val_losses =  mean_squared_error_gd(y_tr, x_tr, initial_w, y_va, x_va, max_iters=100, gamma=0.2, decay=0, lambda_=0)\n",
    "# plot\n",
    "plot_loss(train_losses, val_losses)\n",
    "# accuracy on validation set\n",
    "predict_acc(x_va, y_va, best_weights, logistic=False)"
   ]
  },
  {
   "cell_type": "code",
   "execution_count": 5,
   "metadata": {},
   "outputs": [
    {
     "name": "stdout",
     "output_type": "stream",
     "text": [
      "0.08441930890515892\n",
      "The Accuracy is: 0.7466\n"
     ]
    }
   ],
   "source": [
    "best_weights, mse = least_squares(y_tr, x_tr)\n",
    "print(mse)\n",
    "# accuracy on validation set\n",
    "predict_acc(x_va, y_va, best_weights, logistic=False)"
   ]
  },
  {
   "cell_type": "markdown",
   "metadata": {},
   "source": [
    "Experiment 2:\n",
    "- Model:Linear Regression \n",
    "- polynomials: degree = 10, 30, 50\n",
    "\n",
    "Result:\n",
    "\n",
    "degree = 10: \n",
    "- GD: 0.7712 (29.3s)\n",
    "- NE: 0.8154 (0.5s)\n",
    "\n",
    "degree = 30: \n",
    "- GD: 0.7047 (1m 18s)\n",
    "- NE: 0.8160 (2.7s)\n"
   ]
  },
  {
   "cell_type": "code",
   "execution_count": 6,
   "metadata": {},
   "outputs": [],
   "source": [
    "# prepare data\n",
    "x_tr, x_va, y_tr, y_va = split_data(x, y, ratio=0.8, seed=1) # split data into training set and validation set\n",
    "# one-hot encoding\n",
    "dummies_tr = get_dummy(x_tr)\n",
    "dummies_va = get_dummy(x_va)\n",
    "x_tr, x_mean, x_std = preprocessing(x_tr, dummies_tr, test=False, poly=True, degree=10)\n",
    "x_va, _, _ = preprocessing(x_va, dummies_va, test=True, mean=x_mean, std=x_std, poly=True, degree=10) "
   ]
  },
  {
   "cell_type": "code",
   "execution_count": 7,
   "metadata": {},
   "outputs": [
    {
     "name": "stdout",
     "output_type": "stream",
     "text": [
      "The 200 of the 200 GD iters has the lowest val loss: loss(train)=0.0790304649849867, loss(val)=0.07999068983518613\n"
     ]
    },
    {
     "data": {
      "image/png": "[encoded data removed]",
      "text/plain": [
       "<Figure size 432x288 with 1 Axes>"
      ]
     },
     "metadata": {
      "needs_background": "light"
     },
     "output_type": "display_data"
    },
    {
     "name": "stdout",
     "output_type": "stream",
     "text": [
      "The Accuracy is: 0.7712\n"
     ]
    }
   ],
   "source": [
    "# GD\n",
    "initial_w = np.zeros(x_tr.shape[1])\n",
    "best_weights, train_losses, val_losses =  mean_squared_error_gd(y_tr, x_tr, initial_w, y_va, x_va, max_iters=200, gamma=0.06, decay=0.00001, lambda_=0)\n",
    "# plot\n",
    "plot_loss(train_losses, val_losses)\n",
    "# accuracy on validation set\n",
    "predict_acc(x_va, y_va, best_weights, logistic=False)"
   ]
  },
  {
   "cell_type": "code",
   "execution_count": 8,
   "metadata": {},
   "outputs": [
    {
     "name": "stdout",
     "output_type": "stream",
     "text": [
      "0.06892378358763131\n",
      "The Accuracy is: 0.8154\n"
     ]
    }
   ],
   "source": [
    "# NE:\n",
    "best_weights, mse = least_squares(y_tr, x_tr)\n",
    "print(mse)\n",
    "# accuracy on validation set\n",
    "predict_acc(x_va, y_va, best_weights, logistic=False)"
   ]
  },
  {
   "cell_type": "code",
   "execution_count": 9,
   "metadata": {},
   "outputs": [],
   "source": [
    "# degree = 30\n",
    "# prepare data\n",
    "x_tr, x_va, y_tr, y_va = split_data(x, y, ratio=0.8, seed=1) # split data into training set and validation set\n",
    "# one-hot encoding\n",
    "dummies_tr = get_dummy(x_tr)\n",
    "dummies_va = get_dummy(x_va)\n",
    "x_tr, x_mean, x_std = preprocessing(x_tr, dummies_tr, test=False, poly=True, degree=30)\n",
    "x_va, _, _ = preprocessing(x_va, dummies_va, test=True, mean=x_mean, std=x_std, poly=True, degree=30) "
   ]
  },
  {
   "cell_type": "code",
   "execution_count": 10,
   "metadata": {},
   "outputs": [
    {
     "name": "stdout",
     "output_type": "stream",
     "text": [
      "The 82 of the 200 GD iters has the lowest val loss: loss(train)=0.0930965879664271, loss(val)=0.09489685624093958\n"
     ]
    },
    {
     "data": {
      "image/png": "[encoded data removed]",
      "text/plain": [
       "<Figure size 432x288 with 1 Axes>"
      ]
     },
     "metadata": {
      "needs_background": "light"
     },
     "output_type": "display_data"
    },
    {
     "name": "stdout",
     "output_type": "stream",
     "text": [
      "The Accuracy is: 0.7047\n"
     ]
    }
   ],
   "source": [
    "# GD\n",
    "initial_w = np.zeros(x_tr.shape[1])\n",
    "best_weights, train_losses, val_losses =  mean_squared_error_gd(y_tr, x_tr, initial_w, y_va, x_va, max_iters=200, gamma=0.01, decay=0.00001, lambda_=0)\n",
    "# plot\n",
    "plot_loss(train_losses, val_losses)\n",
    "# accuracy on validation set\n",
    "predict_acc(x_va, y_va, best_weights, logistic=False)"
   ]
  },
  {
   "cell_type": "code",
   "execution_count": 11,
   "metadata": {},
   "outputs": [
    {
     "name": "stdout",
     "output_type": "stream",
     "text": [
      "0.07738754895170799\n",
      "The Accuracy is: 0.8011\n"
     ]
    }
   ],
   "source": [
    "# NE:\n",
    "best_weights, mse = least_squares(y_tr, x_tr)\n",
    "print(mse)\n",
    "# accuracy on validation set\n",
    "predict_acc(x_va, y_va, best_weights, logistic=False)"
   ]
  },
  {
   "cell_type": "markdown",
   "metadata": {},
   "source": [
    "Higher degree doesn't significantly improve accuracy. To save computing power, we use degree=10"
   ]
  },
  {
   "cell_type": "markdown",
   "metadata": {},
   "source": [
    "Experiment 3:\n",
    "- Model: Logistic Regression \n",
    "- polynomials: degree = 10\n",
    "\n",
    "Result:\n",
    "\n",
    "degree = 10: \n",
    "- GD: 0.7791 (2m 6s)\n",
    "- SGD: 0.7850 (59.7s)\n"
   ]
  },
  {
   "cell_type": "code",
   "execution_count": 12,
   "metadata": {},
   "outputs": [],
   "source": [
    "# prepare data\n",
    "x_tr, x_va, y_tr, y_va = split_data(x, y, ratio=0.8, seed=1) # split data into training set and validation set\n",
    "# one-hot encoding\n",
    "dummies_tr = get_dummy(x_tr)\n",
    "dummies_va = get_dummy(x_va)\n",
    "x_tr, x_mean, x_std = preprocessing(x_tr, dummies_tr, test=False, poly=True, degree=10)\n",
    "x_va, _, _ = preprocessing(x_va, dummies_va, test=True, mean=x_mean, std=x_std, poly=True, degree=10) "
   ]
  },
  {
   "cell_type": "code",
   "execution_count": 13,
   "metadata": {},
   "outputs": [
    {
     "name": "stdout",
     "output_type": "stream",
     "text": [
      "The 250 of the 250 GD iters has the lowest val loss: loss(train)=nan, loss(val)=0.46764609557849507\n"
     ]
    },
    {
     "data": {
      "image/png": "[encoded data removed]",
      "text/plain": [
       "<Figure size 432x288 with 1 Axes>"
      ]
     },
     "metadata": {
      "needs_background": "light"
     },
     "output_type": "display_data"
    },
    {
     "name": "stdout",
     "output_type": "stream",
     "text": [
      "The Accuracy is: 0.7791\n"
     ]
    }
   ],
   "source": [
    "# GD\n",
    "initial_w = np.zeros(x_tr.shape[1])\n",
    "best_weights, train_losses, val_losses = logistic_regression(y_tr, x_tr, initial_w, y_va, x_va, max_iters=250, gamma=0.5, decay=0.0001)\n",
    "# plot\n",
    "plot_loss(train_losses, val_losses)\n",
    "# accuracy on validation set\n",
    "predict_acc(x_va, y_va, best_weights, logistic=True)"
   ]
  },
  {
   "cell_type": "code",
   "execution_count": 14,
   "metadata": {},
   "outputs": [
    {
     "name": "stdout",
     "output_type": "stream",
     "text": [
      "The 120 of the 120 GD iters has the lowest val loss: loss(train)=nan, loss(val)=0.4617633019608289\n"
     ]
    },
    {
     "data": {
      "image/png": "[encoded data removed]",
      "text/plain": [
       "<Figure size 432x288 with 1 Axes>"
      ]
     },
     "metadata": {
      "needs_background": "light"
     },
     "output_type": "display_data"
    },
    {
     "name": "stdout",
     "output_type": "stream",
     "text": [
      "The Accuracy is: 0.7850\n"
     ]
    }
   ],
   "source": [
    "# SGD\n",
    "initial_w = np.zeros(x_tr.shape[1])\n",
    "best_weights, train_losses, val_losses = reg_logistic_regression_sgd(y_tr, x_tr, initial_w, y_va, x_va, max_iters=120, gamma=0.0001, decay=0, lambda_=0)\n",
    "# plot\n",
    "plot_loss(train_losses, val_losses)\n",
    "# accuracy on validation set\n",
    "predict_acc(x_va, y_va, best_weights, logistic=True)"
   ]
  },
  {
   "cell_type": "markdown",
   "metadata": {},
   "source": [
    "#### Our best model is Linear Regression with Polynomials (degree=10) using normal equation"
   ]
  },
  {
   "cell_type": "markdown",
   "metadata": {},
   "source": [
    "#### We could also add some interactions features"
   ]
  },
  {
   "cell_type": "markdown",
   "metadata": {},
   "source": [
    "degree = 11"
   ]
  },
  {
   "cell_type": "code",
   "execution_count": 15,
   "metadata": {},
   "outputs": [],
   "source": [
    "# prepare data\n",
    "x_tr, x_va, y_tr, y_va = split_data(x, y, ratio=0.8, seed=1) # split data into training set and validation set\n",
    "# one-hot encoding\n",
    "dummies_tr = get_dummy(x_tr)\n",
    "dummies_va = get_dummy(x_va)\n",
    "x_tr, x_mean, x_std = preprocessing(x_tr, dummies_tr, test=False, poly=True, degree=11, interaction=True)\n",
    "x_va, _, _ = preprocessing(x_va, dummies_va, test=True, mean=x_mean, std=x_std, poly=True, degree=11, interaction=True) "
   ]
  },
  {
   "cell_type": "code",
   "execution_count": 16,
   "metadata": {},
   "outputs": [
    {
     "name": "stdout",
     "output_type": "stream",
     "text": [
      "0.06485452416304856\n",
      "The Accuracy is: 0.8235\n"
     ]
    }
   ],
   "source": [
    "best_weights, mse = least_squares(y_tr, x_tr)\n",
    "print(mse)\n",
    "# accuracy on validation set\n",
    "predict_acc(x_va, y_va, best_weights, logistic=False)"
   ]
  },
  {
   "cell_type": "markdown",
   "metadata": {},
   "source": [
    "degree = 12"
   ]
  },
  {
   "cell_type": "code",
   "execution_count": 17,
   "metadata": {},
   "outputs": [],
   "source": [
    "x_tr, x_va, y_tr, y_va = split_data(x, y, ratio=0.8, seed=1) # split data into training set and validation set\n",
    "# one-hot encoding\n",
    "dummies_tr = get_dummy(x_tr)\n",
    "dummies_va = get_dummy(x_va)\n",
    "x_tr, x_mean, x_std = preprocessing(x_tr, dummies_tr, test=False, poly=True, degree=12, interaction=True)\n",
    "x_va, _, _ = preprocessing(x_va, dummies_va, test=True, mean=x_mean, std=x_std, poly=True, degree=12, interaction=True) "
   ]
  },
  {
   "cell_type": "code",
   "execution_count": 18,
   "metadata": {},
   "outputs": [
    {
     "name": "stdout",
     "output_type": "stream",
     "text": [
      "0.07215304708937245\n",
      "The Accuracy is: 0.8068\n"
     ]
    }
   ],
   "source": [
    "best_weights, mse = least_squares(y_tr, x_tr)\n",
    "print(mse)\n",
    "# accuracy on validation set\n",
    "predict_acc(x_va, y_va, best_weights, logistic=False)"
   ]
  },
  {
   "cell_type": "markdown",
   "metadata": {},
   "source": [
    "- degree 9: 0.8221\n",
    "- degree 10: 0.8229\n",
    "- degree 11: 0.8235 --> best\n",
    "- degree 12: 0.8068"
   ]
  }
 ],
 "metadata": {
  "kernelspec": {
   "display_name": "Python 3.9.7 64-bit ('Anaconda3')",
   "language": "python",
   "name": "python3"
  },
  "language_info": {
   "codemirror_mode": {
    "name": "ipython",
    "version": 3
   },
   "file_extension": ".py",
   "mimetype": "text/x-python",
   "name": "python",
   "nbconvert_exporter": "python",
   "pygments_lexer": "ipython3",
   "version": "3.8.12"
  },
  "orig_nbformat": 4,
  "vscode": {
   "interpreter": {
    "hash": "deb4792152b8b9767403eeef0a1b0f34b83d442136ccee9184cd7d1131f09aa0"
   }
  }
 },
 "nbformat": 4,
 "nbformat_minor": 2
}
